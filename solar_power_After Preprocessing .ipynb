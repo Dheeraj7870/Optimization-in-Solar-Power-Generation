{
 "cells": [
  {
   "cell_type": "code",
   "execution_count": 1,
   "id": "fc49ea2e-d503-4b31-ba13-87ee5ab400e6",
   "metadata": {},
   "outputs": [],
   "source": [
    "import pandas as pd \n",
    "import numpy as np \n",
    "import matplotlib.pyplot as plt\n",
    "import seaborn as sns"
   ]
  },
  {
   "cell_type": "code",
   "execution_count": 2,
   "id": "c47eacb3-c0de-44cb-86cd-abe9fd3216d9",
   "metadata": {},
   "outputs": [],
   "source": [
    "df=pd.read_csv(r\"D:\\2nd Project 360DigiTMG\\datasets(2)\\solar-power-dataset.csv\")"
   ]
  },
  {
   "cell_type": "code",
   "execution_count": 3,
   "id": "61ac0c06-859b-4836-bcf8-07d2ddbe04bc",
   "metadata": {},
   "outputs": [
    {
     "data": {
      "text/html": [
       "<div>\n",
       "<style scoped>\n",
       "    .dataframe tbody tr th:only-of-type {\n",
       "        vertical-align: middle;\n",
       "    }\n",
       "\n",
       "    .dataframe tbody tr th {\n",
       "        vertical-align: top;\n",
       "    }\n",
       "\n",
       "    .dataframe thead th {\n",
       "        text-align: right;\n",
       "    }\n",
       "</style>\n",
       "<table border=\"1\" class=\"dataframe\">\n",
       "  <thead>\n",
       "    <tr style=\"text-align: right;\">\n",
       "      <th></th>\n",
       "      <th>DATE &amp; TIME</th>\n",
       "      <th>UNIT1_INV1_Power</th>\n",
       "      <th>UNIT1_INV2_Power</th>\n",
       "      <th>UNIT2_INV1_Power</th>\n",
       "      <th>UNIT2_INV2_Power</th>\n",
       "      <th>GII</th>\n",
       "      <th>MODULE TEMP.1</th>\n",
       "      <th>RAIN</th>\n",
       "      <th>AMBIENT TEMPRETURE</th>\n",
       "    </tr>\n",
       "  </thead>\n",
       "  <tbody>\n",
       "    <tr>\n",
       "      <th>0</th>\n",
       "      <td>01-04-2024 06:18</td>\n",
       "      <td>74.400002</td>\n",
       "      <td>73.099998</td>\n",
       "      <td>83.300003</td>\n",
       "      <td>85.199997</td>\n",
       "      <td>25</td>\n",
       "      <td>19.0</td>\n",
       "      <td>0.0</td>\n",
       "      <td>22.700001</td>\n",
       "    </tr>\n",
       "    <tr>\n",
       "      <th>1</th>\n",
       "      <td>01-04-2024 06:19</td>\n",
       "      <td>83.500000</td>\n",
       "      <td>81.599998</td>\n",
       "      <td>87.599998</td>\n",
       "      <td>90.099998</td>\n",
       "      <td>27</td>\n",
       "      <td>19.0</td>\n",
       "      <td>0.0</td>\n",
       "      <td>22.700001</td>\n",
       "    </tr>\n",
       "    <tr>\n",
       "      <th>2</th>\n",
       "      <td>01-04-2024 06:20</td>\n",
       "      <td>88.400002</td>\n",
       "      <td>86.500000</td>\n",
       "      <td>92.199997</td>\n",
       "      <td>95.000000</td>\n",
       "      <td>29</td>\n",
       "      <td>19.0</td>\n",
       "      <td>0.0</td>\n",
       "      <td>22.700001</td>\n",
       "    </tr>\n",
       "    <tr>\n",
       "      <th>3</th>\n",
       "      <td>01-04-2024 06:21</td>\n",
       "      <td>93.500000</td>\n",
       "      <td>91.400002</td>\n",
       "      <td>97.000000</td>\n",
       "      <td>100.099998</td>\n",
       "      <td>31</td>\n",
       "      <td>19.1</td>\n",
       "      <td>0.0</td>\n",
       "      <td>22.700001</td>\n",
       "    </tr>\n",
       "    <tr>\n",
       "      <th>4</th>\n",
       "      <td>01-04-2024 06:22</td>\n",
       "      <td>98.500000</td>\n",
       "      <td>96.400002</td>\n",
       "      <td>101.900002</td>\n",
       "      <td>105.000000</td>\n",
       "      <td>33</td>\n",
       "      <td>19.1</td>\n",
       "      <td>0.0</td>\n",
       "      <td>22.600000</td>\n",
       "    </tr>\n",
       "  </tbody>\n",
       "</table>\n",
       "</div>"
      ],
      "text/plain": [
       "        DATE & TIME  UNIT1_INV1_Power  UNIT1_INV2_Power  UNIT2_INV1_Power  \\\n",
       "0  01-04-2024 06:18         74.400002         73.099998         83.300003   \n",
       "1  01-04-2024 06:19         83.500000         81.599998         87.599998   \n",
       "2  01-04-2024 06:20         88.400002         86.500000         92.199997   \n",
       "3  01-04-2024 06:21         93.500000         91.400002         97.000000   \n",
       "4  01-04-2024 06:22         98.500000         96.400002        101.900002   \n",
       "\n",
       "   UNIT2_INV2_Power  GII  MODULE TEMP.1  RAIN  AMBIENT TEMPRETURE  \n",
       "0         85.199997   25           19.0   0.0           22.700001  \n",
       "1         90.099998   27           19.0   0.0           22.700001  \n",
       "2         95.000000   29           19.0   0.0           22.700001  \n",
       "3        100.099998   31           19.1   0.0           22.700001  \n",
       "4        105.000000   33           19.1   0.0           22.600000  "
      ]
     },
     "execution_count": 3,
     "metadata": {},
     "output_type": "execute_result"
    }
   ],
   "source": [
    "df.head()"
   ]
  },
  {
   "cell_type": "code",
   "execution_count": 4,
   "id": "2f5ad89b-4bdb-4353-aef2-ac32ab3b1f26",
   "metadata": {},
   "outputs": [
    {
     "data": {
      "text/plain": [
       "(68451, 9)"
      ]
     },
     "execution_count": 4,
     "metadata": {},
     "output_type": "execute_result"
    }
   ],
   "source": [
    "df.shape"
   ]
  },
  {
   "cell_type": "markdown",
   "id": "8032c689-10ce-4db4-a98f-29de1912b933",
   "metadata": {},
   "source": [
    "# Null value"
   ]
  },
  {
   "cell_type": "code",
   "execution_count": 6,
   "id": "cd85d2ef-d7a5-4139-a8d7-4f323c8111c5",
   "metadata": {},
   "outputs": [
    {
     "data": {
      "text/plain": [
       "DATE & TIME           0\n",
       "UNIT1_INV1_Power      0\n",
       "UNIT1_INV2_Power      0\n",
       "UNIT2_INV1_Power      0\n",
       "UNIT2_INV2_Power      0\n",
       "GII                   0\n",
       "MODULE TEMP.1         0\n",
       "RAIN                  0\n",
       "AMBIENT TEMPRETURE    0\n",
       "dtype: int64"
      ]
     },
     "execution_count": 6,
     "metadata": {},
     "output_type": "execute_result"
    }
   ],
   "source": [
    "df.isna().sum()"
   ]
  },
  {
   "cell_type": "markdown",
   "id": "2713647f-de06-44f6-aeaf-9296d95a9a4f",
   "metadata": {},
   "source": [
    "# duplicate"
   ]
  },
  {
   "cell_type": "code",
   "execution_count": 8,
   "id": "d7e835c7-3525-4612-b380-438039d61636",
   "metadata": {},
   "outputs": [
    {
     "data": {
      "text/plain": [
       "0"
      ]
     },
     "execution_count": 8,
     "metadata": {},
     "output_type": "execute_result"
    }
   ],
   "source": [
    "df.duplicated().sum()"
   ]
  },
  {
   "cell_type": "code",
   "execution_count": 9,
   "id": "476a135d-c8ec-4a9f-aaa6-b83f69986c26",
   "metadata": {},
   "outputs": [
    {
     "data": {
      "text/plain": [
       "DATE & TIME            object\n",
       "UNIT1_INV1_Power      float64\n",
       "UNIT1_INV2_Power      float64\n",
       "UNIT2_INV1_Power      float64\n",
       "UNIT2_INV2_Power      float64\n",
       "GII                     int64\n",
       "MODULE TEMP.1         float64\n",
       "RAIN                  float64\n",
       "AMBIENT TEMPRETURE    float64\n",
       "dtype: object"
      ]
     },
     "execution_count": 9,
     "metadata": {},
     "output_type": "execute_result"
    }
   ],
   "source": [
    "df.dtypes"
   ]
  },
  {
   "cell_type": "markdown",
   "id": "7ecabc95-d053-41e6-8587-55b8f4ee9950",
   "metadata": {},
   "source": [
    "# Typecasting"
   ]
  },
  {
   "cell_type": "code",
   "execution_count": 11,
   "id": "c10f229f-6345-4f0e-98c8-6fcad940f410",
   "metadata": {},
   "outputs": [
    {
     "name": "stdout",
     "output_type": "stream",
     "text": [
      "datetime64[ns]\n"
     ]
    }
   ],
   "source": [
    "df[\"DATE & TIME\"] = pd.to_datetime(df[\"DATE & TIME\"], format=\"%d-%m-%Y %H:%M\", dayfirst=\"True\")\n",
    "print(df[\"DATE & TIME\"].dtype) "
   ]
  },
  {
   "cell_type": "code",
   "execution_count": 12,
   "id": "b3520619-a5d1-4ac2-97bd-ef7859f2f1d9",
   "metadata": {},
   "outputs": [
    {
     "data": {
      "text/plain": [
       "DATE & TIME           datetime64[ns]\n",
       "UNIT1_INV1_Power             float64\n",
       "UNIT1_INV2_Power             float64\n",
       "UNIT2_INV1_Power             float64\n",
       "UNIT2_INV2_Power             float64\n",
       "GII                            int64\n",
       "MODULE TEMP.1                float64\n",
       "RAIN                         float64\n",
       "AMBIENT TEMPRETURE           float64\n",
       "dtype: object"
      ]
     },
     "execution_count": 12,
     "metadata": {},
     "output_type": "execute_result"
    }
   ],
   "source": [
    "df.dtypes"
   ]
  },
  {
   "cell_type": "code",
   "execution_count": 13,
   "id": "b5112afb-8900-4c8c-b791-020425a4c502",
   "metadata": {},
   "outputs": [
    {
     "data": {
      "text/html": [
       "<div>\n",
       "<style scoped>\n",
       "    .dataframe tbody tr th:only-of-type {\n",
       "        vertical-align: middle;\n",
       "    }\n",
       "\n",
       "    .dataframe tbody tr th {\n",
       "        vertical-align: top;\n",
       "    }\n",
       "\n",
       "    .dataframe thead th {\n",
       "        text-align: right;\n",
       "    }\n",
       "</style>\n",
       "<table border=\"1\" class=\"dataframe\">\n",
       "  <thead>\n",
       "    <tr style=\"text-align: right;\">\n",
       "      <th></th>\n",
       "      <th>DATE &amp; TIME</th>\n",
       "      <th>UNIT1_INV1_Power</th>\n",
       "      <th>UNIT1_INV2_Power</th>\n",
       "      <th>UNIT2_INV1_Power</th>\n",
       "      <th>UNIT2_INV2_Power</th>\n",
       "      <th>GII</th>\n",
       "      <th>MODULE TEMP.1</th>\n",
       "      <th>RAIN</th>\n",
       "      <th>AMBIENT TEMPRETURE</th>\n",
       "    </tr>\n",
       "  </thead>\n",
       "  <tbody>\n",
       "    <tr>\n",
       "      <th>0</th>\n",
       "      <td>2024-04-01 06:18:00</td>\n",
       "      <td>74.400002</td>\n",
       "      <td>73.099998</td>\n",
       "      <td>83.300003</td>\n",
       "      <td>85.199997</td>\n",
       "      <td>25</td>\n",
       "      <td>19.0</td>\n",
       "      <td>0.0</td>\n",
       "      <td>22.700001</td>\n",
       "    </tr>\n",
       "    <tr>\n",
       "      <th>1</th>\n",
       "      <td>2024-04-01 06:19:00</td>\n",
       "      <td>83.500000</td>\n",
       "      <td>81.599998</td>\n",
       "      <td>87.599998</td>\n",
       "      <td>90.099998</td>\n",
       "      <td>27</td>\n",
       "      <td>19.0</td>\n",
       "      <td>0.0</td>\n",
       "      <td>22.700001</td>\n",
       "    </tr>\n",
       "    <tr>\n",
       "      <th>2</th>\n",
       "      <td>2024-04-01 06:20:00</td>\n",
       "      <td>88.400002</td>\n",
       "      <td>86.500000</td>\n",
       "      <td>92.199997</td>\n",
       "      <td>95.000000</td>\n",
       "      <td>29</td>\n",
       "      <td>19.0</td>\n",
       "      <td>0.0</td>\n",
       "      <td>22.700001</td>\n",
       "    </tr>\n",
       "    <tr>\n",
       "      <th>3</th>\n",
       "      <td>2024-04-01 06:21:00</td>\n",
       "      <td>93.500000</td>\n",
       "      <td>91.400002</td>\n",
       "      <td>97.000000</td>\n",
       "      <td>100.099998</td>\n",
       "      <td>31</td>\n",
       "      <td>19.1</td>\n",
       "      <td>0.0</td>\n",
       "      <td>22.700001</td>\n",
       "    </tr>\n",
       "    <tr>\n",
       "      <th>4</th>\n",
       "      <td>2024-04-01 06:22:00</td>\n",
       "      <td>98.500000</td>\n",
       "      <td>96.400002</td>\n",
       "      <td>101.900002</td>\n",
       "      <td>105.000000</td>\n",
       "      <td>33</td>\n",
       "      <td>19.1</td>\n",
       "      <td>0.0</td>\n",
       "      <td>22.600000</td>\n",
       "    </tr>\n",
       "    <tr>\n",
       "      <th>...</th>\n",
       "      <td>...</td>\n",
       "      <td>...</td>\n",
       "      <td>...</td>\n",
       "      <td>...</td>\n",
       "      <td>...</td>\n",
       "      <td>...</td>\n",
       "      <td>...</td>\n",
       "      <td>...</td>\n",
       "      <td>...</td>\n",
       "    </tr>\n",
       "    <tr>\n",
       "      <th>68446</th>\n",
       "      <td>2024-06-30 18:06:00</td>\n",
       "      <td>0.000000</td>\n",
       "      <td>0.000000</td>\n",
       "      <td>21.000000</td>\n",
       "      <td>19.700001</td>\n",
       "      <td>3</td>\n",
       "      <td>23.6</td>\n",
       "      <td>0.0</td>\n",
       "      <td>25.500000</td>\n",
       "    </tr>\n",
       "    <tr>\n",
       "      <th>68447</th>\n",
       "      <td>2024-06-30 18:07:00</td>\n",
       "      <td>0.000000</td>\n",
       "      <td>0.000000</td>\n",
       "      <td>20.100000</td>\n",
       "      <td>18.700001</td>\n",
       "      <td>3</td>\n",
       "      <td>23.6</td>\n",
       "      <td>0.0</td>\n",
       "      <td>25.400000</td>\n",
       "    </tr>\n",
       "    <tr>\n",
       "      <th>68448</th>\n",
       "      <td>2024-06-30 18:08:00</td>\n",
       "      <td>0.000000</td>\n",
       "      <td>0.000000</td>\n",
       "      <td>18.900000</td>\n",
       "      <td>17.400000</td>\n",
       "      <td>3</td>\n",
       "      <td>23.5</td>\n",
       "      <td>0.0</td>\n",
       "      <td>25.400000</td>\n",
       "    </tr>\n",
       "    <tr>\n",
       "      <th>68449</th>\n",
       "      <td>2024-06-30 18:09:00</td>\n",
       "      <td>0.000000</td>\n",
       "      <td>0.000000</td>\n",
       "      <td>17.600000</td>\n",
       "      <td>16.000000</td>\n",
       "      <td>3</td>\n",
       "      <td>23.5</td>\n",
       "      <td>0.0</td>\n",
       "      <td>25.400000</td>\n",
       "    </tr>\n",
       "    <tr>\n",
       "      <th>68450</th>\n",
       "      <td>2024-06-30 18:10:00</td>\n",
       "      <td>0.000000</td>\n",
       "      <td>0.000000</td>\n",
       "      <td>16.200001</td>\n",
       "      <td>14.600000</td>\n",
       "      <td>2</td>\n",
       "      <td>23.4</td>\n",
       "      <td>0.0</td>\n",
       "      <td>25.299999</td>\n",
       "    </tr>\n",
       "  </tbody>\n",
       "</table>\n",
       "<p>68451 rows × 9 columns</p>\n",
       "</div>"
      ],
      "text/plain": [
       "              DATE & TIME  UNIT1_INV1_Power  UNIT1_INV2_Power  \\\n",
       "0     2024-04-01 06:18:00         74.400002         73.099998   \n",
       "1     2024-04-01 06:19:00         83.500000         81.599998   \n",
       "2     2024-04-01 06:20:00         88.400002         86.500000   \n",
       "3     2024-04-01 06:21:00         93.500000         91.400002   \n",
       "4     2024-04-01 06:22:00         98.500000         96.400002   \n",
       "...                   ...               ...               ...   \n",
       "68446 2024-06-30 18:06:00          0.000000          0.000000   \n",
       "68447 2024-06-30 18:07:00          0.000000          0.000000   \n",
       "68448 2024-06-30 18:08:00          0.000000          0.000000   \n",
       "68449 2024-06-30 18:09:00          0.000000          0.000000   \n",
       "68450 2024-06-30 18:10:00          0.000000          0.000000   \n",
       "\n",
       "       UNIT2_INV1_Power  UNIT2_INV2_Power  GII  MODULE TEMP.1  RAIN  \\\n",
       "0             83.300003         85.199997   25           19.0   0.0   \n",
       "1             87.599998         90.099998   27           19.0   0.0   \n",
       "2             92.199997         95.000000   29           19.0   0.0   \n",
       "3             97.000000        100.099998   31           19.1   0.0   \n",
       "4            101.900002        105.000000   33           19.1   0.0   \n",
       "...                 ...               ...  ...            ...   ...   \n",
       "68446         21.000000         19.700001    3           23.6   0.0   \n",
       "68447         20.100000         18.700001    3           23.6   0.0   \n",
       "68448         18.900000         17.400000    3           23.5   0.0   \n",
       "68449         17.600000         16.000000    3           23.5   0.0   \n",
       "68450         16.200001         14.600000    2           23.4   0.0   \n",
       "\n",
       "       AMBIENT TEMPRETURE  \n",
       "0               22.700001  \n",
       "1               22.700001  \n",
       "2               22.700001  \n",
       "3               22.700001  \n",
       "4               22.600000  \n",
       "...                   ...  \n",
       "68446           25.500000  \n",
       "68447           25.400000  \n",
       "68448           25.400000  \n",
       "68449           25.400000  \n",
       "68450           25.299999  \n",
       "\n",
       "[68451 rows x 9 columns]"
      ]
     },
     "execution_count": 13,
     "metadata": {},
     "output_type": "execute_result"
    }
   ],
   "source": [
    "df"
   ]
  },
  {
   "cell_type": "markdown",
   "id": "a08aacc4-f60c-46db-a031-8e57f55e5ffc",
   "metadata": {},
   "source": [
    "# Outlier Treatment"
   ]
  },
  {
   "cell_type": "code",
   "execution_count": 15,
   "id": "5bd74ab9-940a-4bc3-9908-4f9fcec3fd5f",
   "metadata": {},
   "outputs": [
    {
     "data": {
      "image/png": "[encoded data removed]",
      "text/plain": [
       "<Figure size 2000x4000 with 20 Axes>"
      ]
     },
     "metadata": {},
     "output_type": "display_data"
    }
   ],
   "source": [
    "df.plot(kind=\"box\", sharey=False, sharex=False, subplots=True, figsize=(20,40), layout=[10,2],vert=False)\n",
    "plt.subplots_adjust(wspace=0.75)"
   ]
  },
  {
   "cell_type": "code",
   "execution_count": 16,
   "id": "49887f06-2e54-4597-8dac-24aa991547ec",
   "metadata": {},
   "outputs": [],
   "source": [
    "from feature_engine.outliers import Winsorizer\n"
   ]
  },
  {
   "cell_type": "code",
   "execution_count": 17,
   "id": "08d3ae3f-11a9-4459-91e4-7b8e65c68c39",
   "metadata": {},
   "outputs": [],
   "source": [
    "win_df = Winsorizer(capping_method = 'iqr',\n",
    "                   fold = 1.5,\n",
    "                   tail = 'both',\n",
    "                   variables = ['MODULE TEMP.1'])"
   ]
  },
  {
   "cell_type": "code",
   "execution_count": 18,
   "id": "06b60f9c-e4f6-474e-a5d9-8bb0a45138c6",
   "metadata": {},
   "outputs": [],
   "source": [
    "df = win_df.fit_transform(df)"
   ]
  },
  {
   "cell_type": "code",
   "execution_count": 19,
   "id": "ae3b61ff-93ec-44f7-b691-3eb7beaabedb",
   "metadata": {},
   "outputs": [
    {
     "data": {
      "text/plain": [
       "<Axes: ylabel='MODULE TEMP.1'>"
      ]
     },
     "execution_count": 19,
     "metadata": {},
     "output_type": "execute_result"
    },
    {
     "data": {
      "image/png": "[encoded data removed]",
      "text/plain": [
       "<Figure size 640x480 with 1 Axes>"
      ]
     },
     "metadata": {},
     "output_type": "display_data"
    }
   ],
   "source": [
    "sns.boxplot(df['MODULE TEMP.1'])"
   ]
  },
  {
   "cell_type": "code",
   "execution_count": 20,
   "id": "166cee9b-550a-4386-a6e7-ad95c4fd119f",
   "metadata": {},
   "outputs": [],
   "source": [
    "from scipy import stats\n",
    "\n",
    "df = df[(abs(stats.zscore(df[\"RAIN\"])) < 3)]  # Keeps values within 3 standard deviations\n"
   ]
  },
  {
   "cell_type": "code",
   "execution_count": 21,
   "id": "ffb231e8-32b7-4dba-9ae0-a8d5a0aae155",
   "metadata": {},
   "outputs": [
    {
     "data": {
      "text/plain": [
       "<Axes: ylabel='RAIN'>"
      ]
     },
     "execution_count": 21,
     "metadata": {},
     "output_type": "execute_result"
    },
    {
     "data": {
      "image/png": "[encoded data removed]",
      "text/plain": [
       "<Figure size 640x480 with 1 Axes>"
      ]
     },
     "metadata": {},
     "output_type": "display_data"
    }
   ],
   "source": [
    "sns.boxplot(df['RAIN'])"
   ]
  },
  {
   "cell_type": "code",
   "execution_count": 22,
   "id": "ef258208-5e94-4e56-81b5-ceb6170872f2",
   "metadata": {},
   "outputs": [],
   "source": [
    "Q1 = df[\"RAIN\"].quantile(0.25)\n",
    "Q3 = df[\"RAIN\"].quantile(0.75)\n",
    "IQR = Q3 - Q1"
   ]
  },
  {
   "cell_type": "code",
   "execution_count": 23,
   "id": "47d259b9-4472-4099-85fc-e8daff80c752",
   "metadata": {},
   "outputs": [],
   "source": [
    "lower_bound = Q1 - 1.5 * IQR\n",
    "upper_bound = Q3 + 1.5 * IQR"
   ]
  },
  {
   "cell_type": "code",
   "execution_count": 24,
   "id": "c9ecf148-dff6-4771-b04f-5ce980a76742",
   "metadata": {},
   "outputs": [],
   "source": [
    "df = df[(df[\"RAIN\"] >= lower_bound) & (df[\"RAIN\"] <= upper_bound)]"
   ]
  },
  {
   "cell_type": "code",
   "execution_count": 25,
   "id": "bcf06903-07b2-40fc-a198-96181a749bb5",
   "metadata": {},
   "outputs": [
    {
     "data": {
      "text/plain": [
       "<Axes: ylabel='RAIN'>"
      ]
     },
     "execution_count": 25,
     "metadata": {},
     "output_type": "execute_result"
    },
    {
     "data": {
      "image/png": "[encoded data removed]",
      "text/plain": [
       "<Figure size 640x480 with 1 Axes>"
      ]
     },
     "metadata": {},
     "output_type": "display_data"
    }
   ],
   "source": [
    "sns.boxplot(df['RAIN'])"
   ]
  },
  {
   "cell_type": "code",
   "execution_count": 26,
   "id": "56c63259-3aa8-44d6-b8de-d1b8a404a61e",
   "metadata": {},
   "outputs": [],
   "source": [
    "win_df = Winsorizer(capping_method = 'iqr',\n",
    "                   fold = 1.5,\n",
    "                   tail = 'both',\n",
    "                   variables = ['AMBIENT TEMPRETURE'])"
   ]
  },
  {
   "cell_type": "code",
   "execution_count": 27,
   "id": "df526e36-6f2d-44ff-bc48-e8dadcde048b",
   "metadata": {},
   "outputs": [],
   "source": [
    "df = win_df.fit_transform(df)"
   ]
  },
  {
   "cell_type": "code",
   "execution_count": 28,
   "id": "2e634a9f-0d50-4d06-a2f8-e4d283022e89",
   "metadata": {},
   "outputs": [
    {
     "data": {
      "text/plain": [
       "<Axes: ylabel='AMBIENT TEMPRETURE'>"
      ]
     },
     "execution_count": 28,
     "metadata": {},
     "output_type": "execute_result"
    },
    {
     "data": {
      "image/png": "[encoded data removed]",
      "text/plain": [
       "<Figure size 640x480 with 1 Axes>"
      ]
     },
     "metadata": {},
     "output_type": "display_data"
    }
   ],
   "source": [
    "sns.boxplot(df['AMBIENT TEMPRETURE'])"
   ]
  },
  {
   "cell_type": "code",
   "execution_count": 29,
   "id": "3fda0ec1-f974-4b6e-bf86-d5f0c8044252",
   "metadata": {},
   "outputs": [
    {
     "data": {
      "image/png": "[encoded data removed]",
      "text/plain": [
       "<Figure size 2000x4000 with 20 Axes>"
      ]
     },
     "metadata": {},
     "output_type": "display_data"
    }
   ],
   "source": [
    "df.plot(kind=\"box\", sharey=False, sharex=False, subplots=True, figsize=(20,40), layout=[10,2],vert=False)\n",
    "plt.subplots_adjust(wspace=0.75)"
   ]
  },
  {
   "cell_type": "code",
   "execution_count": null,
   "id": "eb864536-3399-4dae-a118-22df9ed32d4f",
   "metadata": {},
   "outputs": [],
   "source": []
  },
  {
   "cell_type": "markdown",
   "id": "c798b35a-f04e-4463-b3f5-46ead9a597af",
   "metadata": {},
   "source": [
    "# Normalization"
   ]
  },
  {
   "cell_type": "code",
   "execution_count": 31,
   "id": "7716a445-9ed6-4c30-9af4-bf9b6d8f264d",
   "metadata": {},
   "outputs": [
    {
     "name": "stdout",
     "output_type": "stream",
     "text": [
      "              DATE & TIME  UNIT1_INV1_Power  UNIT1_INV2_Power  \\\n",
      "0     2024-04-01 06:18:00          0.027155          0.026901   \n",
      "1     2024-04-01 06:19:00          0.030477          0.030029   \n",
      "2     2024-04-01 06:20:00          0.032265          0.031832   \n",
      "3     2024-04-01 06:21:00          0.034127          0.033635   \n",
      "4     2024-04-01 06:22:00          0.035952          0.035475   \n",
      "...                   ...               ...               ...   \n",
      "68446 2024-06-30 18:06:00          0.000000          0.000000   \n",
      "68447 2024-06-30 18:07:00          0.000000          0.000000   \n",
      "68448 2024-06-30 18:08:00          0.000000          0.000000   \n",
      "68449 2024-06-30 18:09:00          0.000000          0.000000   \n",
      "68450 2024-06-30 18:10:00          0.000000          0.000000   \n",
      "\n",
      "       UNIT2_INV1_Power  UNIT2_INV2_Power       GII  MODULE TEMP.1  RAIN  \\\n",
      "0              0.029308          0.029512  0.020259       0.262907   0.0   \n",
      "1              0.030821          0.031209  0.021880       0.262907   0.0   \n",
      "2              0.032440          0.032906  0.023501       0.262907   0.0   \n",
      "3              0.034128          0.034673  0.025122       0.264496   0.0   \n",
      "4              0.035853          0.036370  0.026742       0.264496   0.0   \n",
      "...                 ...               ...       ...            ...   ...   \n",
      "68446          0.007389          0.006824  0.002431       0.335981   0.0   \n",
      "68447          0.007072          0.006477  0.002431       0.335981   0.0   \n",
      "68448          0.006650          0.006027  0.002431       0.334392   0.0   \n",
      "68449          0.006192          0.005542  0.002431       0.334392   0.0   \n",
      "68450          0.005700          0.005057  0.001621       0.332804   0.0   \n",
      "\n",
      "       AMBIENT TEMPRETURE  \n",
      "0                  0.2032  \n",
      "1                  0.2032  \n",
      "2                  0.2032  \n",
      "3                  0.2032  \n",
      "4                  0.2000  \n",
      "...                   ...  \n",
      "68446              0.2928  \n",
      "68447              0.2896  \n",
      "68448              0.2896  \n",
      "68449              0.2896  \n",
      "68450              0.2864  \n",
      "\n",
      "[68337 rows x 9 columns]\n"
     ]
    }
   ],
   "source": [
    " from sklearn.preprocessing import MinMaxScaler\n",
    "\n",
    " scaler = MinMaxScaler()\n",
    "\n",
    " columns_to_scale = [\n",
    "     'UNIT1_INV1_Power', 'UNIT1_INV2_Power', 'UNIT2_INV1_Power', \n",
    "     'UNIT2_INV2_Power', 'GII', 'MODULE TEMP.1', \n",
    "     'RAIN', 'AMBIENT TEMPRETURE'\n",
    " ]\n",
    "\n",
    "df[columns_to_scale] = scaler.fit_transform(df[columns_to_scale])\n",
    "\n",
    "print(df)"
   ]
  },
  {
   "cell_type": "code",
   "execution_count": 32,
   "id": "4ca3e974-5012-4788-bfb8-6b73a496cd18",
   "metadata": {},
   "outputs": [
    {
     "data": {
      "text/html": [
       "<div>\n",
       "<style scoped>\n",
       "    .dataframe tbody tr th:only-of-type {\n",
       "        vertical-align: middle;\n",
       "    }\n",
       "\n",
       "    .dataframe tbody tr th {\n",
       "        vertical-align: top;\n",
       "    }\n",
       "\n",
       "    .dataframe thead th {\n",
       "        text-align: right;\n",
       "    }\n",
       "</style>\n",
       "<table border=\"1\" class=\"dataframe\">\n",
       "  <thead>\n",
       "    <tr style=\"text-align: right;\">\n",
       "      <th></th>\n",
       "      <th>DATE &amp; TIME</th>\n",
       "      <th>UNIT1_INV1_Power</th>\n",
       "      <th>UNIT1_INV2_Power</th>\n",
       "      <th>UNIT2_INV1_Power</th>\n",
       "      <th>UNIT2_INV2_Power</th>\n",
       "      <th>GII</th>\n",
       "      <th>MODULE TEMP.1</th>\n",
       "      <th>RAIN</th>\n",
       "      <th>AMBIENT TEMPRETURE</th>\n",
       "    </tr>\n",
       "  </thead>\n",
       "  <tbody>\n",
       "    <tr>\n",
       "      <th>0</th>\n",
       "      <td>2024-04-01 06:18:00</td>\n",
       "      <td>0.027155</td>\n",
       "      <td>0.026901</td>\n",
       "      <td>0.029308</td>\n",
       "      <td>0.029512</td>\n",
       "      <td>0.020259</td>\n",
       "      <td>0.262907</td>\n",
       "      <td>0.0</td>\n",
       "      <td>0.2032</td>\n",
       "    </tr>\n",
       "    <tr>\n",
       "      <th>1</th>\n",
       "      <td>2024-04-01 06:19:00</td>\n",
       "      <td>0.030477</td>\n",
       "      <td>0.030029</td>\n",
       "      <td>0.030821</td>\n",
       "      <td>0.031209</td>\n",
       "      <td>0.021880</td>\n",
       "      <td>0.262907</td>\n",
       "      <td>0.0</td>\n",
       "      <td>0.2032</td>\n",
       "    </tr>\n",
       "    <tr>\n",
       "      <th>2</th>\n",
       "      <td>2024-04-01 06:20:00</td>\n",
       "      <td>0.032265</td>\n",
       "      <td>0.031832</td>\n",
       "      <td>0.032440</td>\n",
       "      <td>0.032906</td>\n",
       "      <td>0.023501</td>\n",
       "      <td>0.262907</td>\n",
       "      <td>0.0</td>\n",
       "      <td>0.2032</td>\n",
       "    </tr>\n",
       "    <tr>\n",
       "      <th>3</th>\n",
       "      <td>2024-04-01 06:21:00</td>\n",
       "      <td>0.034127</td>\n",
       "      <td>0.033635</td>\n",
       "      <td>0.034128</td>\n",
       "      <td>0.034673</td>\n",
       "      <td>0.025122</td>\n",
       "      <td>0.264496</td>\n",
       "      <td>0.0</td>\n",
       "      <td>0.2032</td>\n",
       "    </tr>\n",
       "    <tr>\n",
       "      <th>4</th>\n",
       "      <td>2024-04-01 06:22:00</td>\n",
       "      <td>0.035952</td>\n",
       "      <td>0.035475</td>\n",
       "      <td>0.035853</td>\n",
       "      <td>0.036370</td>\n",
       "      <td>0.026742</td>\n",
       "      <td>0.264496</td>\n",
       "      <td>0.0</td>\n",
       "      <td>0.2000</td>\n",
       "    </tr>\n",
       "  </tbody>\n",
       "</table>\n",
       "</div>"
      ],
      "text/plain": [
       "          DATE & TIME  UNIT1_INV1_Power  UNIT1_INV2_Power  UNIT2_INV1_Power  \\\n",
       "0 2024-04-01 06:18:00          0.027155          0.026901          0.029308   \n",
       "1 2024-04-01 06:19:00          0.030477          0.030029          0.030821   \n",
       "2 2024-04-01 06:20:00          0.032265          0.031832          0.032440   \n",
       "3 2024-04-01 06:21:00          0.034127          0.033635          0.034128   \n",
       "4 2024-04-01 06:22:00          0.035952          0.035475          0.035853   \n",
       "\n",
       "   UNIT2_INV2_Power       GII  MODULE TEMP.1  RAIN  AMBIENT TEMPRETURE  \n",
       "0          0.029512  0.020259       0.262907   0.0              0.2032  \n",
       "1          0.031209  0.021880       0.262907   0.0              0.2032  \n",
       "2          0.032906  0.023501       0.262907   0.0              0.2032  \n",
       "3          0.034673  0.025122       0.264496   0.0              0.2032  \n",
       "4          0.036370  0.026742       0.264496   0.0              0.2000  "
      ]
     },
     "execution_count": 32,
     "metadata": {},
     "output_type": "execute_result"
    }
   ],
   "source": [
    "df.head()"
   ]
  },
  {
   "cell_type": "code",
   "execution_count": 90,
   "id": "52f60a6f-369a-48e1-b7fb-9789e0106991",
   "metadata": {},
   "outputs": [
    {
     "data": {
      "image/png": "[encoded data removed]",
      "text/plain": [
       "<Figure size 1000x1600 with 8 Axes>"
      ]
     },
     "metadata": {},
     "output_type": "display_data"
    }
   ],
   "source": [
    "# List of columns you want to plot\n",
    "columns = ['UNIT1_INV1_Power', 'UNIT1_INV2_Power', 'UNIT2_INV1_Power', 'UNIT2_INV2_Power', 'GII', 'MODULE TEMP.1', 'RAIN', 'AMBIENT TEMPRETURE']\n",
    "\n",
    "# Set up the figure size\n",
    "plt.figure(figsize=(10, 16))\n",
    "\n",
    "# Loop through each column to plot both histogram and KDE\n",
    "for i, col in enumerate(columns):\n",
    "    plt.subplot(4, 2, i+1)  # Adjust subplot grid based on the number of columns\n",
    "    sns.histplot(df[col], bins=20, kde=True)  # kde=True adds the Kernel Density Estimate\n",
    "    plt.title(col)\n",
    "\n",
    "# Adjust layout\n",
    "plt.tight_layout()\n",
    "plt.show()"
   ]
  },
  {
   "cell_type": "code",
   "execution_count": null,
   "id": "79955bd7-d1e8-4ee8-ad4d-8ca4a8dcde43",
   "metadata": {},
   "outputs": [],
   "source": []
  },
  {
   "cell_type": "code",
   "execution_count": 94,
   "id": "ff46313d-324d-43a0-afdb-1878517f91ab",
   "metadata": {},
   "outputs": [
    {
     "data": {
      "text/plain": [
       "Index(['DATE & TIME', 'UNIT1_INV1_Power', 'UNIT1_INV2_Power',\n",
       "       'UNIT2_INV1_Power', 'UNIT2_INV2_Power', 'GII', 'MODULE TEMP.1', 'RAIN',\n",
       "       'AMBIENT TEMPRETURE', 'BoxCox'],\n",
       "      dtype='object')"
      ]
     },
     "execution_count": 94,
     "metadata": {},
     "output_type": "execute_result"
    }
   ],
   "source": [
    "df.columns"
   ]
  },
  {
   "cell_type": "markdown",
   "id": "8e3764a0-a9fe-4581-a33d-a07151ea1497",
   "metadata": {},
   "source": [
    "# First Moment Business Decision / Measures of Central Tendency"
   ]
  },
  {
   "cell_type": "markdown",
   "id": "aad1d3a1-054d-4fbc-89e8-cd23e55341cd",
   "metadata": {},
   "source": [
    "UNIT1_INV1_Power"
   ]
  },
  {
   "cell_type": "code",
   "execution_count": 98,
   "id": "5ac745fa-7aa5-4bee-9999-64856a28de78",
   "metadata": {},
   "outputs": [
    {
     "name": "stdout",
     "output_type": "stream",
     "text": [
      "mean:  0.48992107065153906\n"
     ]
    }
   ],
   "source": [
    "mean = df['UNIT1_INV1_Power'].mean()\n",
    "print('mean: ',mean)"
   ]
  },
  {
   "cell_type": "code",
   "execution_count": 100,
   "id": "b907900c-107f-4b2d-aa1c-75d58c6248e4",
   "metadata": {},
   "outputs": [
    {
     "name": "stdout",
     "output_type": "stream",
     "text": [
      "median:  0.4595955648148834\n"
     ]
    }
   ],
   "source": [
    "median = df['UNIT1_INV1_Power'].median()\n",
    "print('median: ',median)"
   ]
  },
  {
   "cell_type": "code",
   "execution_count": 102,
   "id": "df082dbb-fbbc-46cf-9169-47ecf9d8ee4f",
   "metadata": {},
   "outputs": [
    {
     "name": "stdout",
     "output_type": "stream",
     "text": [
      "mode:  0    0.0\n",
      "Name: UNIT1_INV1_Power, dtype: float64\n"
     ]
    }
   ],
   "source": [
    "mode = df['UNIT1_INV1_Power'].mode()\n",
    "print('mode: ',mode)"
   ]
  },
  {
   "cell_type": "code",
   "execution_count": null,
   "id": "a856a43f-fbea-47b8-be1f-5a73a91dd022",
   "metadata": {},
   "outputs": [],
   "source": []
  },
  {
   "cell_type": "markdown",
   "id": "8dc2848c-ce99-4f52-81af-cb0c44373772",
   "metadata": {},
   "source": [
    "UNIT1_INV2_Power"
   ]
  },
  {
   "cell_type": "code",
   "execution_count": 106,
   "id": "7ad3ba31-73f9-4df1-8e93-aac6242aafcf",
   "metadata": {},
   "outputs": [
    {
     "name": "stdout",
     "output_type": "stream",
     "text": [
      "mean:  0.47790838236748345\n"
     ]
    }
   ],
   "source": [
    "mean = df['UNIT1_INV2_Power'].mean()\n",
    "print('mean: ',mean)"
   ]
  },
  {
   "cell_type": "code",
   "execution_count": 108,
   "id": "d1086ad5-cfef-432b-b5e3-2e6491cb3c6b",
   "metadata": {},
   "outputs": [
    {
     "name": "stdout",
     "output_type": "stream",
     "text": [
      "median:  0.44995215834816793\n"
     ]
    }
   ],
   "source": [
    "median = df['UNIT1_INV2_Power'].median()\n",
    "print('median: ',median)"
   ]
  },
  {
   "cell_type": "code",
   "execution_count": 110,
   "id": "18c6229e-91c5-4ce3-b0a0-a6ee0c396687",
   "metadata": {},
   "outputs": [
    {
     "name": "stdout",
     "output_type": "stream",
     "text": [
      "mode:  0    0.0\n",
      "Name: UNIT1_INV2_Power, dtype: float64\n"
     ]
    }
   ],
   "source": [
    "mode = df['UNIT1_INV2_Power'].mode()\n",
    "print('mode: ',mode)"
   ]
  },
  {
   "cell_type": "code",
   "execution_count": null,
   "id": "185ec1d8-2336-4d9c-95a6-ce78750c24d0",
   "metadata": {},
   "outputs": [],
   "source": []
  },
  {
   "cell_type": "markdown",
   "id": "7dfa090c-d6bd-41a1-add7-003d8369c29b",
   "metadata": {},
   "source": [
    "UNIT2_INV1_Power"
   ]
  },
  {
   "cell_type": "code",
   "execution_count": 114,
   "id": "4e49fe36-95d0-4683-b49c-481a03fe450e",
   "metadata": {},
   "outputs": [
    {
     "name": "stdout",
     "output_type": "stream",
     "text": [
      "mean:  0.46236123353602115\n"
     ]
    }
   ],
   "source": [
    "mean = df['UNIT2_INV1_Power'].mean()\n",
    "print('mean: ',mean)"
   ]
  },
  {
   "cell_type": "code",
   "execution_count": 116,
   "id": "40d8d18f-b0dd-4528-b579-769a4f66f267",
   "metadata": {},
   "outputs": [
    {
     "name": "stdout",
     "output_type": "stream",
     "text": [
      "median:  0.4310393347128729\n"
     ]
    }
   ],
   "source": [
    "median = df['UNIT2_INV1_Power'].median()\n",
    "print('median: ',median)"
   ]
  },
  {
   "cell_type": "code",
   "execution_count": 118,
   "id": "cc259764-46a7-49f1-a635-1ce36ec553aa",
   "metadata": {},
   "outputs": [
    {
     "name": "stdout",
     "output_type": "stream",
     "text": [
      "mode:  0    0.0\n",
      "Name: UNIT2_INV1_Power, dtype: float64\n"
     ]
    }
   ],
   "source": [
    "mode = df['UNIT2_INV1_Power'].mode()\n",
    "print('mode: ',mode)"
   ]
  },
  {
   "cell_type": "code",
   "execution_count": null,
   "id": "850a1d0a-94db-4e72-9012-580385fb86d0",
   "metadata": {},
   "outputs": [],
   "source": []
  },
  {
   "cell_type": "markdown",
   "id": "fa0b00be-68e9-4f5d-a131-c211ffe16d61",
   "metadata": {},
   "source": [
    "UNIT2_INV2_Power"
   ]
  },
  {
   "cell_type": "code",
   "execution_count": 122,
   "id": "07c050fe-38bc-49d3-a6ea-f3465a99a3a1",
   "metadata": {},
   "outputs": [
    {
     "name": "stdout",
     "output_type": "stream",
     "text": [
      "mean:  0.47258426964647726\n"
     ]
    }
   ],
   "source": [
    "mean = df['UNIT2_INV2_Power'].mean()\n",
    "print('mean: ',mean)"
   ]
  },
  {
   "cell_type": "code",
   "execution_count": 124,
   "id": "c3c9a999-b7be-4941-b099-f1c8ac60de2c",
   "metadata": {},
   "outputs": [
    {
     "name": "stdout",
     "output_type": "stream",
     "text": [
      "median:  0.4432975576723242\n"
     ]
    }
   ],
   "source": [
    "median = df['UNIT2_INV2_Power'].median()\n",
    "print('median: ',median)"
   ]
  },
  {
   "cell_type": "code",
   "execution_count": 126,
   "id": "bdc608e0-5726-429e-b14c-064bab6a29dc",
   "metadata": {},
   "outputs": [
    {
     "name": "stdout",
     "output_type": "stream",
     "text": [
      "mode:  0    0.0\n",
      "Name: UNIT2_INV2_Power, dtype: float64\n"
     ]
    }
   ],
   "source": [
    "mode = df['UNIT2_INV2_Power'].mode()\n",
    "print('mode: ',mode)"
   ]
  },
  {
   "cell_type": "code",
   "execution_count": null,
   "id": "86130484-c1ec-4623-b3fe-0a7c02664532",
   "metadata": {},
   "outputs": [],
   "source": []
  },
  {
   "cell_type": "markdown",
   "id": "1acda2ae-846c-4510-bb2e-9e5c9f333d1c",
   "metadata": {},
   "source": [
    "GII"
   ]
  },
  {
   "cell_type": "code",
   "execution_count": 130,
   "id": "ddd2b1a8-a8b3-4864-bdfb-4e50e35db7d5",
   "metadata": {},
   "outputs": [
    {
     "name": "stdout",
     "output_type": "stream",
     "text": [
      "mean:  0.3549257707933243\n"
     ]
    }
   ],
   "source": [
    "mean = df['GII'].mean()\n",
    "print('mean: ',mean)"
   ]
  },
  {
   "cell_type": "code",
   "execution_count": 132,
   "id": "29b451d2-5110-4198-a6d6-495ea0ffa748",
   "metadata": {},
   "outputs": [
    {
     "name": "stdout",
     "output_type": "stream",
     "text": [
      "median:  0.3241491085899514\n"
     ]
    }
   ],
   "source": [
    "median = df['GII'].median()\n",
    "print('median: ',median)"
   ]
  },
  {
   "cell_type": "code",
   "execution_count": 134,
   "id": "20369b53-72c1-4956-a853-32ae0d70aa86",
   "metadata": {},
   "outputs": [
    {
     "name": "stdout",
     "output_type": "stream",
     "text": [
      "mode:  0    0.001621\n",
      "Name: GII, dtype: float64\n"
     ]
    }
   ],
   "source": [
    "mode = df['GII'].mode()\n",
    "print('mode: ',mode)"
   ]
  },
  {
   "cell_type": "code",
   "execution_count": null,
   "id": "c1c5ab29-1d15-4e51-a217-e784201658f7",
   "metadata": {},
   "outputs": [],
   "source": []
  },
  {
   "cell_type": "markdown",
   "id": "5572879f-7e6b-41c3-af04-929af6a4a7cb",
   "metadata": {},
   "source": [
    "MODULE TEMP.1"
   ]
  },
  {
   "cell_type": "code",
   "execution_count": 138,
   "id": "a388c7e9-1a74-4072-a688-515c9f333008",
   "metadata": {},
   "outputs": [
    {
     "name": "stdout",
     "output_type": "stream",
     "text": [
      "mean:  0.6306001909717415\n"
     ]
    }
   ],
   "source": [
    "mean = df['MODULE TEMP.1'].mean()\n",
    "print('mean: ',mean)"
   ]
  },
  {
   "cell_type": "code",
   "execution_count": 140,
   "id": "7f93b22e-35ae-47b6-bee3-5e1cc77a9b63",
   "metadata": {},
   "outputs": [
    {
     "name": "stdout",
     "output_type": "stream",
     "text": [
      "median:  0.6362192389537167\n"
     ]
    }
   ],
   "source": [
    "median = df['MODULE TEMP.1'].median()\n",
    "print('median: ',median)"
   ]
  },
  {
   "cell_type": "code",
   "execution_count": 142,
   "id": "aeb5e410-b5f3-41c6-979f-8322c6ac60d0",
   "metadata": {},
   "outputs": [
    {
     "name": "stdout",
     "output_type": "stream",
     "text": [
      "mode:  0    0.0\n",
      "Name: MODULE TEMP.1, dtype: float64\n"
     ]
    }
   ],
   "source": [
    "mode = df['MODULE TEMP.1'].mode()\n",
    "print('mode: ',mode)"
   ]
  },
  {
   "cell_type": "code",
   "execution_count": null,
   "id": "dc8814e6-c507-4c28-b5c2-7f8f51fb79c6",
   "metadata": {},
   "outputs": [],
   "source": []
  },
  {
   "cell_type": "markdown",
   "id": "11125e52-45e5-4741-a862-d455ab672f5f",
   "metadata": {},
   "source": [
    "RAIN"
   ]
  },
  {
   "cell_type": "code",
   "execution_count": 146,
   "id": "c354fbe5-cdc4-460d-995b-799eda5ce5a4",
   "metadata": {},
   "outputs": [
    {
     "name": "stdout",
     "output_type": "stream",
     "text": [
      "mean:  0.0\n"
     ]
    }
   ],
   "source": [
    "mean = df['RAIN'].mean()\n",
    "print('mean: ',mean)"
   ]
  },
  {
   "cell_type": "code",
   "execution_count": 148,
   "id": "7aac9d96-bb82-4463-8163-e98a8f9c5ed8",
   "metadata": {},
   "outputs": [
    {
     "name": "stdout",
     "output_type": "stream",
     "text": [
      "median:  0.0\n"
     ]
    }
   ],
   "source": [
    "median = df['RAIN'].median()\n",
    "print('median: ',median)"
   ]
  },
  {
   "cell_type": "code",
   "execution_count": 150,
   "id": "6a390199-b341-43b1-9e2d-2f58b75de693",
   "metadata": {},
   "outputs": [
    {
     "name": "stdout",
     "output_type": "stream",
     "text": [
      "mode:  0    0.0\n",
      "Name: RAIN, dtype: float64\n"
     ]
    }
   ],
   "source": [
    "mode = df['RAIN'].mode()\n",
    "print('mode: ',mode)"
   ]
  },
  {
   "cell_type": "code",
   "execution_count": null,
   "id": "7418152d-55d8-4ccd-8d3c-0a53cf3d90b7",
   "metadata": {},
   "outputs": [],
   "source": []
  },
  {
   "cell_type": "markdown",
   "id": "675d1e68-aa65-4409-8754-7e8ad4239e2a",
   "metadata": {},
   "source": [
    "AMBIENT TEMPRETURE"
   ]
  },
  {
   "cell_type": "code",
   "execution_count": 154,
   "id": "a2dc2614-898c-42cf-b33c-c56600f0ccf2",
   "metadata": {},
   "outputs": [
    {
     "name": "stdout",
     "output_type": "stream",
     "text": [
      "mean:  0.5788282912935516\n"
     ]
    }
   ],
   "source": [
    "mean = df['AMBIENT TEMPRETURE'].mean()\n",
    "print('mean: ',mean)"
   ]
  },
  {
   "cell_type": "code",
   "execution_count": 156,
   "id": "107a7a81-03ea-4ee1-b82e-d63577c6f67f",
   "metadata": {},
   "outputs": [
    {
     "name": "stdout",
     "output_type": "stream",
     "text": [
      "median:  0.5999999359999898\n"
     ]
    }
   ],
   "source": [
    "median = df['AMBIENT TEMPRETURE'].median()\n",
    "print('median: ',median)"
   ]
  },
  {
   "cell_type": "code",
   "execution_count": 158,
   "id": "e62a445b-cef7-4fd7-abaf-262ddf34c984",
   "metadata": {},
   "outputs": [
    {
     "name": "stdout",
     "output_type": "stream",
     "text": [
      "mode:  0    0.7248\n",
      "Name: AMBIENT TEMPRETURE, dtype: float64\n"
     ]
    }
   ],
   "source": [
    "mode = df['AMBIENT TEMPRETURE'].mode()\n",
    "print('mode: ',mode)"
   ]
  },
  {
   "cell_type": "code",
   "execution_count": null,
   "id": "81e3fe35-465b-4b10-83d2-bb56a0140fa6",
   "metadata": {},
   "outputs": [],
   "source": []
  },
  {
   "cell_type": "markdown",
   "id": "5fc53312-cc4e-4b5a-9a3d-821b2a637949",
   "metadata": {},
   "source": [
    "# Second Moment Business Decision / Measures of Dispersion¶"
   ]
  },
  {
   "cell_type": "markdown",
   "id": "b4eb4f2e-1c9e-4604-b8f9-3283152acb45",
   "metadata": {},
   "source": [
    "UNIT1_INV1_Power"
   ]
  },
  {
   "cell_type": "code",
   "execution_count": 167,
   "id": "2053b193-e00a-4568-9e29-1517c827df8d",
   "metadata": {},
   "outputs": [
    {
     "name": "stdout",
     "output_type": "stream",
     "text": [
      "0.11305546901052581\n"
     ]
    }
   ],
   "source": [
    "variance = df['UNIT1_INV1_Power'].var()\n",
    "print(variance)"
   ]
  },
  {
   "cell_type": "code",
   "execution_count": 169,
   "id": "70362e8c-59fc-4090-8a5a-28228f8c52ad",
   "metadata": {},
   "outputs": [
    {
     "name": "stdout",
     "output_type": "stream",
     "text": [
      "0.3362372213341732\n"
     ]
    }
   ],
   "source": [
    "Standard_Deviation = df['UNIT1_INV1_Power'].std()\n",
    "print(Standard_Deviation )"
   ]
  },
  {
   "cell_type": "code",
   "execution_count": 173,
   "id": "3e472b67-6b40-4328-a014-351764e82ba2",
   "metadata": {},
   "outputs": [
    {
     "name": "stdout",
     "output_type": "stream",
     "text": [
      "Range of UNIT1_INV1_Power: 1.0\n"
     ]
    }
   ],
   "source": [
    "Range = df['UNIT1_INV1_Power'].max() - df['UNIT1_INV1_Power'].min()\n",
    "print(\"Range of UNIT1_INV1_Power:\", Range)"
   ]
  },
  {
   "cell_type": "code",
   "execution_count": null,
   "id": "f4a409ff-0e48-4dae-b95d-422a99fd2f95",
   "metadata": {},
   "outputs": [],
   "source": []
  },
  {
   "cell_type": "markdown",
   "id": "1427dd8c-95c6-4ee1-97ac-82e230eaf338",
   "metadata": {},
   "source": [
    "UNIT1_INV2_Power"
   ]
  },
  {
   "cell_type": "code",
   "execution_count": 177,
   "id": "52da7836-f1c6-4d5e-abbb-b6e8a9e7c648",
   "metadata": {},
   "outputs": [
    {
     "name": "stdout",
     "output_type": "stream",
     "text": [
      "0.11110157378855684\n"
     ]
    }
   ],
   "source": [
    "variance = df['UNIT1_INV2_Power'].var()\n",
    "print(variance)"
   ]
  },
  {
   "cell_type": "code",
   "execution_count": 179,
   "id": "88e95fee-c164-4c12-9df7-5ea9ec06f3e7",
   "metadata": {},
   "outputs": [
    {
     "name": "stdout",
     "output_type": "stream",
     "text": [
      "0.333319027042497\n"
     ]
    }
   ],
   "source": [
    "Standard_Deviation = df['UNIT1_INV2_Power'].std()\n",
    "print(Standard_Deviation )"
   ]
  },
  {
   "cell_type": "code",
   "execution_count": 181,
   "id": "b9dcd177-ffdb-4fd9-94ad-11cea6511b8a",
   "metadata": {},
   "outputs": [
    {
     "name": "stdout",
     "output_type": "stream",
     "text": [
      "Range of UNIT1_INV2_Power: 1.0\n"
     ]
    }
   ],
   "source": [
    "Range = df['UNIT1_INV2_Power'].max() - df['UNIT1_INV2_Power'].min()\n",
    "print(\"Range of UNIT1_INV2_Power:\", Range)"
   ]
  },
  {
   "cell_type": "code",
   "execution_count": null,
   "id": "058292fb-0f42-4987-bb85-218d74735cb0",
   "metadata": {},
   "outputs": [],
   "source": []
  },
  {
   "cell_type": "markdown",
   "id": "7cd18ad6-3460-4e35-aacf-b92c84331b7f",
   "metadata": {},
   "source": [
    "UNIT2_INV1_Power"
   ]
  },
  {
   "cell_type": "code",
   "execution_count": 185,
   "id": "6ccadadc-e793-45f2-a9fb-5b1c43786ea6",
   "metadata": {},
   "outputs": [
    {
     "name": "stdout",
     "output_type": "stream",
     "text": [
      "0.10169058212722075\n"
     ]
    }
   ],
   "source": [
    "variance = df['UNIT2_INV1_Power'].var()\n",
    "print(variance)"
   ]
  },
  {
   "cell_type": "code",
   "execution_count": 187,
   "id": "3a03eb18-934f-49e5-ac1c-22e49b774a5d",
   "metadata": {},
   "outputs": [
    {
     "name": "stdout",
     "output_type": "stream",
     "text": [
      "0.3188896080577427\n"
     ]
    }
   ],
   "source": [
    "Standard_Deviation = df['UNIT2_INV1_Power'].std()\n",
    "print(Standard_Deviation )"
   ]
  },
  {
   "cell_type": "code",
   "execution_count": 189,
   "id": "01d167da-ed70-4eae-a966-28ccd3aa52cf",
   "metadata": {},
   "outputs": [
    {
     "name": "stdout",
     "output_type": "stream",
     "text": [
      "Range of UNIT2_INV1_Power: 1.0\n"
     ]
    }
   ],
   "source": [
    "Range = df['UNIT2_INV1_Power'].max() - df['UNIT2_INV1_Power'].min()\n",
    "print(\"Range of UNIT2_INV1_Power:\", Range)"
   ]
  },
  {
   "cell_type": "code",
   "execution_count": null,
   "id": "78507648-525b-4d81-838b-4a205fe64775",
   "metadata": {},
   "outputs": [],
   "source": []
  },
  {
   "cell_type": "markdown",
   "id": "c9993004-1391-4415-9cad-593bf9e6b82f",
   "metadata": {},
   "source": [
    "UNIT2_INV2_Power"
   ]
  },
  {
   "cell_type": "code",
   "execution_count": 193,
   "id": "0f2aed0b-9f9a-48f4-acba-ad4dcf6adfa6",
   "metadata": {},
   "outputs": [
    {
     "name": "stdout",
     "output_type": "stream",
     "text": [
      "0.10476762096808523\n"
     ]
    }
   ],
   "source": [
    "variance = df['UNIT2_INV2_Power'].var()\n",
    "print(variance)"
   ]
  },
  {
   "cell_type": "code",
   "execution_count": 195,
   "id": "4f7818ae-4056-4bdd-adb1-55f08b8a6d64",
   "metadata": {},
   "outputs": [
    {
     "name": "stdout",
     "output_type": "stream",
     "text": [
      "0.3236782676796285\n"
     ]
    }
   ],
   "source": [
    "Standard_Deviation = df['UNIT2_INV2_Power'].std()\n",
    "print(Standard_Deviation )"
   ]
  },
  {
   "cell_type": "code",
   "execution_count": 197,
   "id": "36ff8845-dd6d-4b65-a642-c9ea571ce49a",
   "metadata": {},
   "outputs": [
    {
     "name": "stdout",
     "output_type": "stream",
     "text": [
      "Range of UNIT2_INV2_Power: 1.0\n"
     ]
    }
   ],
   "source": [
    "Range = df['UNIT2_INV2_Power'].max() - df['UNIT2_INV2_Power'].min()\n",
    "print(\"Range of UNIT2_INV2_Power:\", Range)"
   ]
  },
  {
   "cell_type": "code",
   "execution_count": null,
   "id": "b8886bb5-2544-49bd-a01d-b1c5256bb857",
   "metadata": {},
   "outputs": [],
   "source": []
  },
  {
   "cell_type": "markdown",
   "id": "a8b58e06-2d81-4dc4-b4e7-077144e656b2",
   "metadata": {},
   "source": [
    "GII"
   ]
  },
  {
   "cell_type": "code",
   "execution_count": 201,
   "id": "92f66f1f-f80c-4c3f-9249-1400a6183b6b",
   "metadata": {},
   "outputs": [
    {
     "name": "stdout",
     "output_type": "stream",
     "text": [
      "0.061971123965131054\n"
     ]
    }
   ],
   "source": [
    "variance = df['GII'].var()\n",
    "print(variance)"
   ]
  },
  {
   "cell_type": "code",
   "execution_count": 203,
   "id": "823a76de-b9d9-475a-b989-8259e067bd84",
   "metadata": {},
   "outputs": [
    {
     "name": "stdout",
     "output_type": "stream",
     "text": [
      "0.2489400007333716\n"
     ]
    }
   ],
   "source": [
    "Standard_Deviation = df['GII'].std()\n",
    "print(Standard_Deviation )"
   ]
  },
  {
   "cell_type": "code",
   "execution_count": 205,
   "id": "edfdb38e-c1c1-4350-87e8-a1e88aa0371c",
   "metadata": {},
   "outputs": [
    {
     "name": "stdout",
     "output_type": "stream",
     "text": [
      "Range of GII: 1.0\n"
     ]
    }
   ],
   "source": [
    "Range = df['GII'].max() - df['GII'].min()\n",
    "print(\"Range of GII:\", Range)"
   ]
  },
  {
   "cell_type": "code",
   "execution_count": null,
   "id": "b2fc6183-ca3f-42cd-87d6-99ad3c811846",
   "metadata": {},
   "outputs": [],
   "source": []
  },
  {
   "cell_type": "markdown",
   "id": "56926545-bd05-423b-8b9c-a05ed54cf67a",
   "metadata": {},
   "source": [
    "MODULE TEMP.1"
   ]
  },
  {
   "cell_type": "code",
   "execution_count": 209,
   "id": "674621eb-f3c7-4486-8c8e-0e680bd9f557",
   "metadata": {},
   "outputs": [
    {
     "name": "stdout",
     "output_type": "stream",
     "text": [
      "0.036923867717709245\n"
     ]
    }
   ],
   "source": [
    "variance = df['MODULE TEMP.1'].var()\n",
    "print(variance)"
   ]
  },
  {
   "cell_type": "code",
   "execution_count": 211,
   "id": "f3092235-ea81-4a36-aebb-a3f101c164ef",
   "metadata": {},
   "outputs": [
    {
     "name": "stdout",
     "output_type": "stream",
     "text": [
      "0.19215584226796031\n"
     ]
    }
   ],
   "source": [
    "Standard_Deviation = df['MODULE TEMP.1'].std()\n",
    "print(Standard_Deviation )"
   ]
  },
  {
   "cell_type": "code",
   "execution_count": 213,
   "id": "37cefeaa-f5f9-48bf-8ac1-bef5c7bedce3",
   "metadata": {},
   "outputs": [
    {
     "name": "stdout",
     "output_type": "stream",
     "text": [
      "Range of MODULE TEMP.1: 0.9999999999999999\n"
     ]
    }
   ],
   "source": [
    "Range = df['MODULE TEMP.1'].max() - df['MODULE TEMP.1'].min()\n",
    "print(\"Range of MODULE TEMP.1:\", Range)"
   ]
  },
  {
   "cell_type": "code",
   "execution_count": null,
   "id": "4ea38a27-0292-4166-8f85-dd3727ca9f6e",
   "metadata": {},
   "outputs": [],
   "source": []
  },
  {
   "cell_type": "markdown",
   "id": "800fa35e-4421-4098-96af-12e8ab4113f8",
   "metadata": {},
   "source": [
    "RAIN"
   ]
  },
  {
   "cell_type": "code",
   "execution_count": 217,
   "id": "663141d3-f661-4ac8-9e7f-db1c07e53d38",
   "metadata": {},
   "outputs": [
    {
     "name": "stdout",
     "output_type": "stream",
     "text": [
      "0.0\n"
     ]
    }
   ],
   "source": [
    "variance = df['RAIN'].var()\n",
    "print(variance)"
   ]
  },
  {
   "cell_type": "code",
   "execution_count": 219,
   "id": "85586a58-7043-44fb-9aaa-d96af95ea8f1",
   "metadata": {},
   "outputs": [
    {
     "name": "stdout",
     "output_type": "stream",
     "text": [
      "0.0\n"
     ]
    }
   ],
   "source": [
    "Standard_Deviation = df['RAIN'].std()\n",
    "print(Standard_Deviation )"
   ]
  },
  {
   "cell_type": "code",
   "execution_count": 221,
   "id": "a88e3c11-88d7-442b-b8fd-d77d9939c4c1",
   "metadata": {},
   "outputs": [
    {
     "name": "stdout",
     "output_type": "stream",
     "text": [
      "Range of RAIN: 0.0\n"
     ]
    }
   ],
   "source": [
    "Range = df['RAIN'].max() - df['RAIN'].min()\n",
    "print(\"Range of RAIN:\", Range)"
   ]
  },
  {
   "cell_type": "code",
   "execution_count": null,
   "id": "fe937816-e76f-42d2-9e5c-1838a3fa2c76",
   "metadata": {},
   "outputs": [],
   "source": []
  },
  {
   "cell_type": "markdown",
   "id": "284b79a5-a76e-41b1-a8d9-33fb6d2b7e58",
   "metadata": {},
   "source": [
    "AMBIENT TEMPRETURE"
   ]
  },
  {
   "cell_type": "code",
   "execution_count": 225,
   "id": "c6f353b9-6afb-426d-aa76-5a3f186bf0b0",
   "metadata": {},
   "outputs": [
    {
     "name": "stdout",
     "output_type": "stream",
     "text": [
      "0.03156567457834842\n"
     ]
    }
   ],
   "source": [
    "variance = df['AMBIENT TEMPRETURE'].var()\n",
    "print(variance)"
   ]
  },
  {
   "cell_type": "code",
   "execution_count": 227,
   "id": "71b53be0-c420-4523-be1e-a9cc9b53a31a",
   "metadata": {},
   "outputs": [
    {
     "name": "stdout",
     "output_type": "stream",
     "text": [
      "0.17766731432187638\n"
     ]
    }
   ],
   "source": [
    "Standard_Deviation = df['AMBIENT TEMPRETURE'].std()\n",
    "print(Standard_Deviation )"
   ]
  },
  {
   "cell_type": "code",
   "execution_count": 229,
   "id": "d8119dba-d70c-41d4-89bb-ad0171324e4e",
   "metadata": {},
   "outputs": [
    {
     "name": "stdout",
     "output_type": "stream",
     "text": [
      "Range of AMBIENT TEMPRETURE: 0.9999999999999999\n"
     ]
    }
   ],
   "source": [
    "Range = df['AMBIENT TEMPRETURE'].max() - df['AMBIENT TEMPRETURE'].min()\n",
    "print(\"Range of AMBIENT TEMPRETURE:\", Range)"
   ]
  },
  {
   "cell_type": "code",
   "execution_count": null,
   "id": "4533d0bd-75de-4e54-b67e-b70cb8ca3a94",
   "metadata": {},
   "outputs": [],
   "source": []
  },
  {
   "cell_type": "markdown",
   "id": "011d1dc3-a890-4e65-bd5b-a1941fa9754e",
   "metadata": {},
   "source": [
    "# Third Moment Business Decision / Skewness¶"
   ]
  },
  {
   "cell_type": "markdown",
   "id": "8b106324-3264-42c6-8a76-3e4c55a5b2a9",
   "metadata": {},
   "source": [
    "UNIT1_INV1_Power"
   ]
  },
  {
   "cell_type": "code",
   "execution_count": 234,
   "id": "573bc81d-bc25-4697-937a-0869b7c8d091",
   "metadata": {},
   "outputs": [
    {
     "name": "stdout",
     "output_type": "stream",
     "text": [
      "0.09405715856579852\n"
     ]
    }
   ],
   "source": [
    "skewness = df['UNIT1_INV1_Power'].skew()\n",
    "print(skewness)"
   ]
  },
  {
   "cell_type": "code",
   "execution_count": null,
   "id": "81facbf3-731a-4075-9f31-b269d15f8952",
   "metadata": {},
   "outputs": [],
   "source": []
  },
  {
   "cell_type": "markdown",
   "id": "d5cae187-7db9-46c4-9953-354325b92487",
   "metadata": {},
   "source": [
    "UNIT1_INV2_Power"
   ]
  },
  {
   "cell_type": "code",
   "execution_count": 238,
   "id": "333c8763-c1c3-47c2-ab2f-9c76195d89e8",
   "metadata": {},
   "outputs": [
    {
     "name": "stdout",
     "output_type": "stream",
     "text": [
      "0.10013201598960185\n"
     ]
    }
   ],
   "source": [
    "skewness = df['UNIT1_INV2_Power'].skew()\n",
    "print(skewness)"
   ]
  },
  {
   "cell_type": "code",
   "execution_count": null,
   "id": "10d618d3-82e5-4709-9f6e-c675268f55b5",
   "metadata": {},
   "outputs": [],
   "source": []
  },
  {
   "cell_type": "markdown",
   "id": "21a5cc47-29c9-4107-9535-020d1bdad5ee",
   "metadata": {},
   "source": [
    "UNIT2_INV1_Power"
   ]
  },
  {
   "cell_type": "code",
   "execution_count": 242,
   "id": "81251a3a-6bfc-4cd6-af40-a7b0d048b2b1",
   "metadata": {},
   "outputs": [
    {
     "name": "stdout",
     "output_type": "stream",
     "text": [
      "0.13249025853164115\n"
     ]
    }
   ],
   "source": [
    "skewness = df['UNIT2_INV1_Power'].skew()\n",
    "print(skewness)"
   ]
  },
  {
   "cell_type": "code",
   "execution_count": null,
   "id": "c493148a-d89c-49bc-bf42-8e5d6f67914f",
   "metadata": {},
   "outputs": [],
   "source": []
  },
  {
   "cell_type": "markdown",
   "id": "ae902ffa-932a-4025-8ecc-fbe75e7dcb41",
   "metadata": {},
   "source": [
    "UNIT2_INV2_Power"
   ]
  },
  {
   "cell_type": "code",
   "execution_count": 246,
   "id": "cb2c1d9b-5ea7-4eb3-9ed9-641e4d37ef89",
   "metadata": {},
   "outputs": [
    {
     "name": "stdout",
     "output_type": "stream",
     "text": [
      "0.10787639634254544\n"
     ]
    }
   ],
   "source": [
    "skewness = df['UNIT2_INV2_Power'].skew()\n",
    "print(skewness)"
   ]
  },
  {
   "cell_type": "code",
   "execution_count": null,
   "id": "b0735bcf-3e57-4a0f-a728-043e71633277",
   "metadata": {},
   "outputs": [],
   "source": []
  },
  {
   "cell_type": "markdown",
   "id": "d14dc2bd-724f-4d7c-8302-f89d2a963487",
   "metadata": {},
   "source": [
    "GII"
   ]
  },
  {
   "cell_type": "code",
   "execution_count": 250,
   "id": "65301567-38ba-4314-ae9f-1814812874c8",
   "metadata": {},
   "outputs": [
    {
     "name": "stdout",
     "output_type": "stream",
     "text": [
      "0.17092940396769754\n"
     ]
    }
   ],
   "source": [
    "skewness = df['GII'].skew()\n",
    "print(skewness)"
   ]
  },
  {
   "cell_type": "code",
   "execution_count": null,
   "id": "269d177a-ba8d-4a06-9cbd-a354f1a421e6",
   "metadata": {},
   "outputs": [],
   "source": []
  },
  {
   "cell_type": "markdown",
   "id": "17cf86da-49cf-4c7d-b892-20d6aea3b754",
   "metadata": {},
   "source": [
    "MODULE TEMP.1"
   ]
  },
  {
   "cell_type": "code",
   "execution_count": 254,
   "id": "39947257-7290-40bc-b981-4ebd89039d89",
   "metadata": {},
   "outputs": [
    {
     "name": "stdout",
     "output_type": "stream",
     "text": [
      "-0.3517013156300247\n"
     ]
    }
   ],
   "source": [
    "skewness = df['MODULE TEMP.1'].skew()\n",
    "print(skewness)"
   ]
  },
  {
   "cell_type": "code",
   "execution_count": null,
   "id": "e32cf76c-f2bd-4172-86d2-291e2b72ba92",
   "metadata": {},
   "outputs": [],
   "source": []
  },
  {
   "cell_type": "markdown",
   "id": "c918b551-42b4-4e59-9209-1c745bd7ceba",
   "metadata": {},
   "source": [
    "RAIN\n"
   ]
  },
  {
   "cell_type": "code",
   "execution_count": 258,
   "id": "22f33566-0955-4455-93f6-738b67ea4b6b",
   "metadata": {},
   "outputs": [
    {
     "name": "stdout",
     "output_type": "stream",
     "text": [
      "0.0\n"
     ]
    }
   ],
   "source": [
    "skewness = df['RAIN'].skew()\n",
    "print(skewness)"
   ]
  },
  {
   "cell_type": "code",
   "execution_count": null,
   "id": "0f5868bd-7330-4f4e-9a30-62387035c80d",
   "metadata": {},
   "outputs": [],
   "source": []
  },
  {
   "cell_type": "markdown",
   "id": "c9793da7-eb49-4a7d-9201-2f83d9f6eb3b",
   "metadata": {},
   "source": [
    "AMBIENT TEMPRETURE"
   ]
  },
  {
   "cell_type": "code",
   "execution_count": 262,
   "id": "f8ce7226-0fb8-47f0-8f18-195a15d25329",
   "metadata": {},
   "outputs": [
    {
     "name": "stdout",
     "output_type": "stream",
     "text": [
      "-0.24549135370741038\n"
     ]
    }
   ],
   "source": [
    "skewness = df['AMBIENT TEMPRETURE'].skew()\n",
    "print(skewness)"
   ]
  },
  {
   "cell_type": "code",
   "execution_count": null,
   "id": "ec8a9cf5-b8d1-4d65-b770-7cdb59a949d7",
   "metadata": {},
   "outputs": [],
   "source": []
  },
  {
   "cell_type": "markdown",
   "id": "9e57a6f8-c4d0-4b01-82b0-901b0209ce3f",
   "metadata": {},
   "source": [
    "# Fourth Moment Business Decision / Kurtosis"
   ]
  },
  {
   "cell_type": "markdown",
   "id": "8166681f-6d38-4892-9831-75188366084b",
   "metadata": {},
   "source": [
    "UNIT1_INV1_Power"
   ]
  },
  {
   "cell_type": "code",
   "execution_count": 267,
   "id": "f4c3b049-76b2-4aa9-b666-c28fb1871c1f",
   "metadata": {},
   "outputs": [
    {
     "name": "stdout",
     "output_type": "stream",
     "text": [
      "-1.461699237072652\n"
     ]
    }
   ],
   "source": [
    "kurtosis = df['UNIT1_INV1_Power'].kurtosis()\n",
    "print(kurtosis)"
   ]
  },
  {
   "cell_type": "code",
   "execution_count": null,
   "id": "062dc2d1-25f2-40b5-a76d-3d56d670c45f",
   "metadata": {},
   "outputs": [],
   "source": []
  },
  {
   "cell_type": "markdown",
   "id": "7d7c6f26-e7f2-43e5-92b1-d6da5465c294",
   "metadata": {},
   "source": [
    "UNIT1_INV2_Power"
   ]
  },
  {
   "cell_type": "code",
   "execution_count": 271,
   "id": "0dabde92-886c-4ad6-b856-7a6c8ee196ef",
   "metadata": {},
   "outputs": [
    {
     "name": "stdout",
     "output_type": "stream",
     "text": [
      "-1.4386420489301985\n"
     ]
    }
   ],
   "source": [
    "kurtosis = df['UNIT1_INV2_Power'].kurtosis()\n",
    "print(kurtosis)"
   ]
  },
  {
   "cell_type": "code",
   "execution_count": null,
   "id": "cb224552-5eec-4807-b8e9-28b80f011379",
   "metadata": {},
   "outputs": [],
   "source": []
  },
  {
   "cell_type": "markdown",
   "id": "cbd10b9a-cde0-44c9-8e90-126f049bc6dc",
   "metadata": {},
   "source": [
    "UNIT2_INV1_Power"
   ]
  },
  {
   "cell_type": "code",
   "execution_count": 275,
   "id": "f2ffa0fe-8df9-4481-a968-8c6e0fbc46f6",
   "metadata": {},
   "outputs": [
    {
     "name": "stdout",
     "output_type": "stream",
     "text": [
      "-1.4249598849824747\n"
     ]
    }
   ],
   "source": [
    "kurtosis = df['UNIT2_INV1_Power'].kurtosis()\n",
    "print(kurtosis)"
   ]
  },
  {
   "cell_type": "code",
   "execution_count": null,
   "id": "a2960801-9048-4f54-9281-0f3ef25a688a",
   "metadata": {},
   "outputs": [],
   "source": []
  },
  {
   "cell_type": "markdown",
   "id": "4e58a955-bcc7-4e63-8687-7a0ebd236bb9",
   "metadata": {},
   "source": [
    "UNIT2_INV2_Power"
   ]
  },
  {
   "cell_type": "code",
   "execution_count": 279,
   "id": "9a6291a9-8c9c-4262-ba90-4e9a82eb88f6",
   "metadata": {},
   "outputs": [
    {
     "name": "stdout",
     "output_type": "stream",
     "text": [
      "-1.4488942869700532\n"
     ]
    }
   ],
   "source": [
    "kurtosis = df['UNIT2_INV2_Power'].kurtosis()\n",
    "print(kurtosis)"
   ]
  },
  {
   "cell_type": "code",
   "execution_count": null,
   "id": "d063238b-d849-480e-8b0a-471dd26b2894",
   "metadata": {},
   "outputs": [],
   "source": []
  },
  {
   "cell_type": "markdown",
   "id": "4ef330ec-34e0-46d2-bb9f-f7beca7f180d",
   "metadata": {},
   "source": [
    "GII"
   ]
  },
  {
   "cell_type": "code",
   "execution_count": 283,
   "id": "460ae5d7-9bc4-4f2d-afc9-4adc3cd676ee",
   "metadata": {},
   "outputs": [
    {
     "name": "stdout",
     "output_type": "stream",
     "text": [
      "-1.396272557048408\n"
     ]
    }
   ],
   "source": [
    "kurtosis = df['GII'].kurtosis()\n",
    "print(kurtosis)"
   ]
  },
  {
   "cell_type": "code",
   "execution_count": null,
   "id": "33848ee8-92a6-466d-97da-100a002ceaee",
   "metadata": {},
   "outputs": [],
   "source": []
  },
  {
   "cell_type": "markdown",
   "id": "0c05e7d0-5c40-45ba-be5d-26a78edee09b",
   "metadata": {},
   "source": [
    "MODULE TEMP.1"
   ]
  },
  {
   "cell_type": "code",
   "execution_count": 287,
   "id": "ed13f391-5884-47bc-a7b7-e6078d2df721",
   "metadata": {},
   "outputs": [
    {
     "name": "stdout",
     "output_type": "stream",
     "text": [
      "-0.35440267336617604\n"
     ]
    }
   ],
   "source": [
    "kurtosis = df['MODULE TEMP.1'].kurtosis()\n",
    "print(kurtosis)"
   ]
  },
  {
   "cell_type": "code",
   "execution_count": null,
   "id": "1768c53d-44bc-4083-a837-d52b1d83ada9",
   "metadata": {},
   "outputs": [],
   "source": []
  },
  {
   "cell_type": "markdown",
   "id": "9ccaa6b0-0fc5-48c0-ac87-2adbc37b4ab9",
   "metadata": {},
   "source": [
    "RAIN"
   ]
  },
  {
   "cell_type": "code",
   "execution_count": 291,
   "id": "20f44aba-ad3f-4f00-99f2-4612514d661c",
   "metadata": {},
   "outputs": [
    {
     "name": "stdout",
     "output_type": "stream",
     "text": [
      "0.0\n"
     ]
    }
   ],
   "source": [
    "kurtosis = df['RAIN'].kurtosis()\n",
    "print(kurtosis)"
   ]
  },
  {
   "cell_type": "code",
   "execution_count": null,
   "id": "e0b3bf77-34a7-44c3-9d3d-ab2f3f2df19d",
   "metadata": {},
   "outputs": [],
   "source": []
  },
  {
   "cell_type": "markdown",
   "id": "599a2d6f-f5b3-4aea-86fe-407134d3b574",
   "metadata": {},
   "source": [
    "AMBIENT TEMPRETURE"
   ]
  },
  {
   "cell_type": "code",
   "execution_count": 295,
   "id": "4bb5e819-d740-4642-8640-a85b89bdcef8",
   "metadata": {},
   "outputs": [
    {
     "name": "stdout",
     "output_type": "stream",
     "text": [
      "-0.8060400666721415\n"
     ]
    }
   ],
   "source": [
    "kurtosis = df['AMBIENT TEMPRETURE'].kurtosis()\n",
    "print(kurtosis)"
   ]
  },
  {
   "cell_type": "code",
   "execution_count": null,
   "id": "5c6a817f-f8b6-4001-89d2-42a3d74dc6c6",
   "metadata": {},
   "outputs": [],
   "source": []
  }
 ],
 "metadata": {
  "kernelspec": {
   "display_name": "Python 3 (ipykernel)",
   "language": "python",
   "name": "python3"
  },
  "language_info": {
   "codemirror_mode": {
    "name": "ipython",
    "version": 3
   },
   "file_extension": ".py",
   "mimetype": "text/x-python",
   "name": "python",
   "nbconvert_exporter": "python",
   "pygments_lexer": "ipython3",
   "version": "3.12.3"
  }
 },
 "nbformat": 4,
 "nbformat_minor": 5
}
